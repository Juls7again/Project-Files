{
 "cells": [
  {
   "cell_type": "markdown",
   "id": "4ee1fb64",
   "metadata": {},
   "source": [
    "# Data exploration and hypothesis testing: Waze Churn Prevention Project"
   ]
  },
  {
   "cell_type": "markdown",
   "id": "99d97c4d",
   "metadata": {},
   "source": [
    "**Background on the Waze Scenario:**\n",
    "\n",
    "Waze's free navigation app simplifies travel for drivers worldwide. The collaborative effort of map editors, beta testers, translators, partners, and users ensures each journey is optimized for safety and efficiency. Collaborations with cities, transportation authorities, broadcasters, businesses, and first responders further Waze's commitment to facilitating safer and more efficient travel experiences.\n",
    "\n",
    "In this project, **our primary objective** of this project is to demostrate knowledge of how to conduct a two-sample hypothesis test and apply descriptive statistics and hypothesis testing in Python.\n",
    "\n",
    "The project employs a dataset titled 'waze_dataset.csv,' meticulously curated through a partnership between Google and Waze, containing synthetic data exclusively generated for this collaborative initiative.\n",
    "\n",
    "**Key dataset specifications:**\n",
    "\n",
    "* 14,999 rows – signifying unique user entries\n",
    "* 12 columns, capturing essential data variables\n",
    "\n",
    "    | Column name | Type | Description|\n",
    "    |:--------|:--------|:--------|\n",
    "    |  label   |  obj   |  Binary target variable (“retained” vs “churned”) for if a user has churned anytime during the course of the month    |\n",
    "    |  sessions  |  int   | The number of occurrence of a user opening the app during the month   |\n",
    "    |  drives  |  int   |  An occurrence of driving at least 1 km during the month  |\n",
    "    |  device  |  onj   |  The type of device a user starts a session with  |\n",
    "    |  total_sessions  |  float   |  A model estimate of the total number of sessions since a user has onboarded  |\n",
    "    |  n_days_after_onboarding  |  int   |  The number of days since a user signed up for the app|\n",
    "    |  total_navigations_fav1   |  int   | Total navigations since onboarding to the user’s favorite place 1   |\n",
    "    |  total_navigations_fav2  |  int   |  Total navigations since onboarding to the user’s favorite place 2   |\n",
    "    |  driven_km_drives  |  float   |  Total kilometers driven during the month   |\n",
    "    |  duration_minutes_drives   |  float   |  \tTotal duration driven in minutes during the month   |\n",
    "    |  activity_days  |  int   |  Number of days the user opens the app during the month   |\n",
    "    |  driving_days  |  int   |  Number of days the user drives (at least 1 km) during the month   |\n",
    "    \n",
    "\n"
   ]
  },
  {
   "cell_type": "markdown",
   "id": "e3a0c87a",
   "metadata": {},
   "source": [
    "## Imports and data loading\n",
    "Packages and libraries needed to compute descriptive statistics and conduct a hypothesis test."
   ]
  },
  {
   "cell_type": "code",
   "execution_count": 1,
   "id": "cb10c45a",
   "metadata": {},
   "outputs": [],
   "source": [
    "# Import statements, packages and/or libraries\n",
    "import pandas as pd\n",
    "import numpy as np\n",
    "from scipy import stats\n",
    "import statsmodels.api as sm"
   ]
  },
  {
   "cell_type": "markdown",
   "id": "5de90837",
   "metadata": {},
   "source": [
    "Read the data and store it as a dataframe object called df."
   ]
  },
  {
   "cell_type": "code",
   "execution_count": 2,
   "id": "1bc21e4f",
   "metadata": {},
   "outputs": [],
   "source": [
    "# Load the dataset into a dataframe\n",
    "df = pd.read_csv('waze_dataset.csv')"
   ]
  },
  {
   "cell_type": "markdown",
   "id": "df0f8e3a",
   "metadata": {},
   "source": [
    "## Data exploration\n",
    "In the dataset, device is a categorical variable with the labels iPhone and Android. In order to perform the analysis, we must turn each label into an integer. Use code to assigns a 1 for an iPhone user and a 2 for Android."
   ]
  },
  {
   "cell_type": "code",
   "execution_count": 3,
   "id": "b9a2d127",
   "metadata": {},
   "outputs": [
    {
     "data": {
      "text/html": [
       "<div>\n",
       "<style scoped>\n",
       "    .dataframe tbody tr th:only-of-type {\n",
       "        vertical-align: middle;\n",
       "    }\n",
       "\n",
       "    .dataframe tbody tr th {\n",
       "        vertical-align: top;\n",
       "    }\n",
       "\n",
       "    .dataframe thead th {\n",
       "        text-align: right;\n",
       "    }\n",
       "</style>\n",
       "<table border=\"1\" class=\"dataframe\">\n",
       "  <thead>\n",
       "    <tr style=\"text-align: right;\">\n",
       "      <th></th>\n",
       "      <th>ID</th>\n",
       "      <th>label</th>\n",
       "      <th>sessions</th>\n",
       "      <th>drives</th>\n",
       "      <th>total_sessions</th>\n",
       "      <th>n_days_after_onboarding</th>\n",
       "      <th>total_navigations_fav1</th>\n",
       "      <th>total_navigations_fav2</th>\n",
       "      <th>driven_km_drives</th>\n",
       "      <th>duration_minutes_drives</th>\n",
       "      <th>activity_days</th>\n",
       "      <th>driving_days</th>\n",
       "      <th>device</th>\n",
       "      <th>device_type</th>\n",
       "    </tr>\n",
       "  </thead>\n",
       "  <tbody>\n",
       "    <tr>\n",
       "      <th>0</th>\n",
       "      <td>0</td>\n",
       "      <td>retained</td>\n",
       "      <td>283</td>\n",
       "      <td>226</td>\n",
       "      <td>296.748273</td>\n",
       "      <td>2276</td>\n",
       "      <td>208</td>\n",
       "      <td>0</td>\n",
       "      <td>2628.845068</td>\n",
       "      <td>1985.775061</td>\n",
       "      <td>28</td>\n",
       "      <td>19</td>\n",
       "      <td>Android</td>\n",
       "      <td>2</td>\n",
       "    </tr>\n",
       "    <tr>\n",
       "      <th>1</th>\n",
       "      <td>1</td>\n",
       "      <td>retained</td>\n",
       "      <td>133</td>\n",
       "      <td>107</td>\n",
       "      <td>326.896596</td>\n",
       "      <td>1225</td>\n",
       "      <td>19</td>\n",
       "      <td>64</td>\n",
       "      <td>13715.920550</td>\n",
       "      <td>3160.472914</td>\n",
       "      <td>13</td>\n",
       "      <td>11</td>\n",
       "      <td>iPhone</td>\n",
       "      <td>1</td>\n",
       "    </tr>\n",
       "    <tr>\n",
       "      <th>2</th>\n",
       "      <td>2</td>\n",
       "      <td>retained</td>\n",
       "      <td>114</td>\n",
       "      <td>95</td>\n",
       "      <td>135.522926</td>\n",
       "      <td>2651</td>\n",
       "      <td>0</td>\n",
       "      <td>0</td>\n",
       "      <td>3059.148818</td>\n",
       "      <td>1610.735904</td>\n",
       "      <td>14</td>\n",
       "      <td>8</td>\n",
       "      <td>Android</td>\n",
       "      <td>2</td>\n",
       "    </tr>\n",
       "    <tr>\n",
       "      <th>3</th>\n",
       "      <td>3</td>\n",
       "      <td>retained</td>\n",
       "      <td>49</td>\n",
       "      <td>40</td>\n",
       "      <td>67.589221</td>\n",
       "      <td>15</td>\n",
       "      <td>322</td>\n",
       "      <td>7</td>\n",
       "      <td>913.591123</td>\n",
       "      <td>587.196542</td>\n",
       "      <td>7</td>\n",
       "      <td>3</td>\n",
       "      <td>iPhone</td>\n",
       "      <td>1</td>\n",
       "    </tr>\n",
       "    <tr>\n",
       "      <th>4</th>\n",
       "      <td>4</td>\n",
       "      <td>retained</td>\n",
       "      <td>84</td>\n",
       "      <td>68</td>\n",
       "      <td>168.247020</td>\n",
       "      <td>1562</td>\n",
       "      <td>166</td>\n",
       "      <td>5</td>\n",
       "      <td>3950.202008</td>\n",
       "      <td>1219.555924</td>\n",
       "      <td>27</td>\n",
       "      <td>18</td>\n",
       "      <td>Android</td>\n",
       "      <td>2</td>\n",
       "    </tr>\n",
       "  </tbody>\n",
       "</table>\n",
       "</div>"
      ],
      "text/plain": [
       "   ID     label  sessions  drives  total_sessions  n_days_after_onboarding  \\\n",
       "0   0  retained       283     226      296.748273                     2276   \n",
       "1   1  retained       133     107      326.896596                     1225   \n",
       "2   2  retained       114      95      135.522926                     2651   \n",
       "3   3  retained        49      40       67.589221                       15   \n",
       "4   4  retained        84      68      168.247020                     1562   \n",
       "\n",
       "   total_navigations_fav1  total_navigations_fav2  driven_km_drives  \\\n",
       "0                     208                       0       2628.845068   \n",
       "1                      19                      64      13715.920550   \n",
       "2                       0                       0       3059.148818   \n",
       "3                     322                       7        913.591123   \n",
       "4                     166                       5       3950.202008   \n",
       "\n",
       "   duration_minutes_drives  activity_days  driving_days   device  device_type  \n",
       "0              1985.775061             28            19  Android            2  \n",
       "1              3160.472914             13            11   iPhone            1  \n",
       "2              1610.735904             14             8  Android            2  \n",
       "3               587.196542              7             3   iPhone            1  \n",
       "4              1219.555924             27            18  Android            2  "
      ]
     },
     "execution_count": 3,
     "metadata": {},
     "output_type": "execute_result"
    }
   ],
   "source": [
    "# 1. Create `map_dictionary`\n",
    "map_dictionary = {'iPhone': 1, 'Android': 2}\n",
    "# 2. Create new `device_type` column\n",
    "df['device_type'] = df['device']\n",
    "# 3. Map the new column to the dictionary\n",
    "df['device_type'] = df['device_type'].map(map_dictionary)\n",
    "df.head()"
   ]
  },
  {
   "cell_type": "markdown",
   "id": "cff84f73",
   "metadata": {},
   "source": [
    "You could be interested in the relationship between device type and the number of drives. One approach is to look at the average number of drives for each device type."
   ]
  },
  {
   "cell_type": "code",
   "execution_count": 4,
   "id": "413f91f3",
   "metadata": {},
   "outputs": [
    {
     "name": "stdout",
     "output_type": "stream",
     "text": [
      "                drives\n",
      "device_type           \n",
      "1            67.859078\n",
      "2            66.231838\n"
     ]
    }
   ],
   "source": [
    "print(df[['device_type', 'drives']].groupby('device_type').mean())"
   ]
  },
  {
   "cell_type": "markdown",
   "id": "a71514a5",
   "metadata": {},
   "source": [
    "Based on the averages shown, it appears that drivers who use an iPhone device to interact with the application have a higher number of drives on average. However, this difference might arise from random sampling, rather than being a true difference in the number of drives. To assess whether the difference is statistically significant, you can conduct a **hypothesis test.**"
   ]
  },
  {
   "cell_type": "markdown",
   "id": "05b7b8b1",
   "metadata": {},
   "source": [
    "## Hypothesis testing\n",
    "\n",
    "Our goal is to conduct a two-sample t-test.Recall the steps for conducting a hypothesis test:\n",
    "\n",
    "\n",
    "1.   State the null hypothesis and the alternative hypothesis\n",
    "2.   Choose a signficance level\n",
    "3.   Find the p-value\n",
    "4.   Reject or fail to reject the null hypothesis\n",
    "\n",
    "This is a t-test for two independent samples. This is the appropriate test since the two groups are independent (Android users vs. iPhone users).\n",
    "\n",
    "**Note** \n",
    "A t-test for two independent samples is a statistical test used to determine if there is a significant difference between the means of two independent groups. It assesses whether the average scores or measurements in two distinct populations are significantly different from each other."
   ]
  },
  {
   "cell_type": "markdown",
   "id": "3dcc0b16",
   "metadata": {},
   "source": [
    "### State the null hypothesis and the alternative hypothesis\n",
    "$H_0$: There is no difference in average number of drives between drivers who use iPhone devices and drivers who use Androids.\n",
    "\n",
    "$H_A$: There is a difference in average number of drives between drivers who use iPhone devices and drivers who use Androids."
   ]
  },
  {
   "cell_type": "markdown",
   "id": "ef682e4f",
   "metadata": {},
   "source": [
    "###  Choose a signficance level\n",
    "\n",
    "We will choose 5% as the significance level and proceed with a two-sample t-test.\n",
    "\n",
    "**Note**\n",
    "A significance level, is a critical value that researchers choose to determine the level of significance in hypothesis testing. In the context of hypothesis testing using statistical methods like t-tests, the significance level represents the probability of rejecting the null hypothesis when it is actually true.\n",
    "\n",
    "When a significance level of 5% (or 0.05) is chosen, it means that there is a 5% chance of incorrectly rejecting the null hypothesis. In other words:\n",
    "\n",
    "* If the p-value obtained from a statistical test (such as a t-test) is less than 0.05, you would typically reject the null hypothesis in favor of the alternative hypothesis.\n",
    "* If the p-value is greater than 0.05, you would fail to reject the null hypothesis.\n",
    "\n",
    "A significance level of 5% is a common choice and is often used in many scientific studies and research fields. It signifies a moderate level of certainty in rejecting the null hypothesis if the evidence against it is sufficiently strong"
   ]
  },
  {
   "cell_type": "markdown",
   "id": "ba859b7d",
   "metadata": {},
   "source": [
    "### Find the p-value\n",
    "We can use the stats.ttest_ind() function to perform the test."
   ]
  },
  {
   "cell_type": "code",
   "execution_count": 5,
   "id": "79f6de23",
   "metadata": {},
   "outputs": [
    {
     "data": {
      "text/plain": [
       "TtestResult(statistic=1.463523206885235, pvalue=0.143351972680206, df=11345.066049381952)"
      ]
     },
     "execution_count": 5,
     "metadata": {},
     "output_type": "execute_result"
    }
   ],
   "source": [
    "# 1. Isolate the `drives` column for iPhone users.\n",
    "iphone = df[df['device'] == 'iPhone']\n",
    "# 2. Isolate the `drives` column for Android users.\n",
    "android = df[df['device'] == 'Android']\n",
    "# 3. Perform the t-test\n",
    "stats.ttest_ind(a=iphone['drives'], b=android['drives'], equal_var=False)"
   ]
  },
  {
   "cell_type": "markdown",
   "id": "a4e2ce19",
   "metadata": {},
   "source": [
    "### Reject or fail to reject the null hypothesis\n",
    "The **p-value(14.33%)** is greater than the significance **level(5%)**, we can conclude that there is not a statistically significant difference in the mean district literacy rates between iphone and android users. In other words, we will fail to reject the null hypothesis  𝐻0 ."
   ]
  },
  {
   "cell_type": "markdown",
   "id": "906ad57e",
   "metadata": {},
   "source": [
    "## Conclusion"
   ]
  },
  {
   "cell_type": "markdown",
   "id": "59414f26",
   "metadata": {},
   "source": [
    "The drivers who use iPhone devices on average have a similar number of drives as those who use Android."
   ]
  }
 ],
 "metadata": {
  "kernelspec": {
   "display_name": "Python 3 (ipykernel)",
   "language": "python",
   "name": "python3"
  },
  "language_info": {
   "codemirror_mode": {
    "name": "ipython",
    "version": 3
   },
   "file_extension": ".py",
   "mimetype": "text/x-python",
   "name": "python",
   "nbconvert_exporter": "python",
   "pygments_lexer": "ipython3",
   "version": "3.11.5"
  },
  "toc": {
   "base_numbering": 1,
   "nav_menu": {},
   "number_sections": true,
   "sideBar": true,
   "skip_h1_title": false,
   "title_cell": "Table of Contents",
   "title_sidebar": "Contents",
   "toc_cell": false,
   "toc_position": {},
   "toc_section_display": true,
   "toc_window_display": false
  }
 },
 "nbformat": 4,
 "nbformat_minor": 5
}
